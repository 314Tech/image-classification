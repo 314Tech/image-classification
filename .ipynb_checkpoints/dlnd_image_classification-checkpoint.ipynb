{
 "cells": [
  {
   "cell_type": "markdown",
   "metadata": {
    "collapsed": true,
    "deletable": true,
    "editable": true
   },
   "source": [
    "# Image Classification\n",
    "In this project, you'll classify images from the [CIFAR-10 dataset](https://www.cs.toronto.edu/~kriz/cifar.html).  The dataset consists of airplanes, dogs, cats, and other objects. You'll preprocess the images, then train a convolutional neural network on all the samples. The images need to be normalized and the labels need to be one-hot encoded.  You'll get to apply what you learned and build a convolutional, max pooling, dropout, and fully connected layers.  At the end, you'll get to see your neural network's predictions on the sample images.\n",
    "## Get the Data\n",
    "Run the following cell to download the [CIFAR-10 dataset for python](https://www.cs.toronto.edu/~kriz/cifar-10-python.tar.gz)."
   ]
  },
  {
   "cell_type": "code",
   "execution_count": 2,
   "metadata": {
    "collapsed": false,
    "deletable": true,
    "editable": true
   },
   "outputs": [
    {
     "name": "stdout",
     "output_type": "stream",
     "text": [
      "All files found!\n"
     ]
    }
   ],
   "source": [
    "\"\"\"\n",
    "DON'T MODIFY ANYTHING IN THIS CELL THAT IS BELOW THIS LINE\n",
    "\"\"\"\n",
    "from urllib.request import urlretrieve\n",
    "from os.path import isfile, isdir\n",
    "from tqdm import tqdm\n",
    "import problem_unittests as tests\n",
    "import tarfile\n",
    "\n",
    "cifar10_dataset_folder_path = 'cifar-10-batches-py'\n",
    "\n",
    "class DLProgress(tqdm):\n",
    "    last_block = 0\n",
    "\n",
    "    def hook(self, block_num=1, block_size=1, total_size=None):\n",
    "        self.total = total_size\n",
    "        self.update((block_num - self.last_block) * block_size)\n",
    "        self.last_block = block_num\n",
    "\n",
    "if not isfile('cifar-10-python.tar.gz'):\n",
    "    with DLProgress(unit='B', unit_scale=True, miniters=1, desc='CIFAR-10 Dataset') as pbar:\n",
    "        urlretrieve(\n",
    "            'https://www.cs.toronto.edu/~kriz/cifar-10-python.tar.gz',\n",
    "            'cifar-10-python.tar.gz',\n",
    "            pbar.hook)\n",
    "\n",
    "if not isdir(cifar10_dataset_folder_path):\n",
    "    with tarfile.open('cifar-10-python.tar.gz') as tar:\n",
    "        tar.extractall()\n",
    "        tar.close()\n",
    "\n",
    "\n",
    "tests.test_folder_path(cifar10_dataset_folder_path)"
   ]
  },
  {
   "cell_type": "markdown",
   "metadata": {
    "deletable": true,
    "editable": true
   },
   "source": [
    "## Explore the Data\n",
    "The dataset is broken into batches to prevent your machine from running out of memory.  The CIFAR-10 dataset consists of 5 batches, named `data_batch_1`, `data_batch_2`, etc.. Each batch contains the labels and images that are one of the following:\n",
    "* airplane\n",
    "* automobile\n",
    "* bird\n",
    "* cat\n",
    "* deer\n",
    "* dog\n",
    "* frog\n",
    "* horse\n",
    "* ship\n",
    "* truck\n",
    "\n",
    "Understanding a dataset is part of making predictions on the data.  Play around with the code cell below by changing the `batch_id` and `sample_id`. The `batch_id` is the id for a batch (1-5). The `sample_id` is the id for a image and label pair in the batch.\n",
    "\n",
    "Ask yourself \"What are all possible labels?\", \"What is the range of values for the image data?\", \"Are the labels in order or random?\".  Answers to questions like these will help you preprocess the data and end up with better predictions."
   ]
  },
  {
   "cell_type": "code",
   "execution_count": 3,
   "metadata": {
    "collapsed": false,
    "deletable": true,
    "editable": true
   },
   "outputs": [
    {
     "name": "stdout",
     "output_type": "stream",
     "text": [
      "\n",
      "Stats of batch 1:\n",
      "Samples: 10000\n",
      "Label Counts: {0: 1005, 1: 974, 2: 1032, 3: 1016, 4: 999, 5: 937, 6: 1030, 7: 1001, 8: 1025, 9: 981}\n",
      "First 20 Labels: [6, 9, 9, 4, 1, 1, 2, 7, 8, 3, 4, 7, 7, 2, 9, 9, 9, 3, 2, 6]\n",
      "\n",
      "Example of Image 2:\n",
      "Image - Min Value: 20 Max Value: 255\n",
      "Image - Shape: (32, 32, 3)\n",
      "Label - Label Id: 9 Name: truck\n"
     ]
    },
    {
     "data": {
      "image/png": "[encoded data removed]",
      "text/plain": [
       "<matplotlib.figure.Figure at 0x7f292c03cac8>"
      ]
     },
     "metadata": {
      "image/png": {
       "height": 250,
       "width": 253
      }
     },
     "output_type": "display_data"
    }
   ],
   "source": [
    "%matplotlib inline\n",
    "%config InlineBackend.figure_format = 'retina'\n",
    "\n",
    "import helper\n",
    "import numpy as np\n",
    "\n",
    "# Explore the dataset\n",
    "batch_id = 1\n",
    "sample_id = 2\n",
    "helper.display_stats(cifar10_dataset_folder_path, batch_id, sample_id)"
   ]
  },
  {
   "cell_type": "markdown",
   "metadata": {
    "deletable": true,
    "editable": true
   },
   "source": [
    "## Implement Preprocess Functions\n",
    "### Normalize\n",
    "In the cell below, implement the `normalize` function to take in image data, `x`, and return it as a normalized Numpy array. The values should be in the range of 0 to 1, inclusive.  The return object should be the same shape as `x`."
   ]
  },
  {
   "cell_type": "code",
   "execution_count": 4,
   "metadata": {
    "collapsed": false,
    "deletable": true,
    "editable": true
   },
   "outputs": [
    {
     "name": "stdout",
     "output_type": "stream",
     "text": [
      "Tests Passed\n"
     ]
    }
   ],
   "source": [
    "def normalize(x):\n",
    "    \"\"\"\n",
    "    Normalize a list of sample image data in the range of 0 to 1\n",
    "    : x: List of image data.  The image shape is (32, 32, 3)\n",
    "    : return: Numpy array of normalize data\n",
    "    \"\"\"\n",
    "    # TODO: Implement Function\n",
    "    x = x/255\n",
    "    return x\n",
    "\n",
    "\n",
    "\"\"\"\n",
    "DON'T MODIFY ANYTHING IN THIS CELL THAT IS BELOW THIS LINE\n",
    "\"\"\"\n",
    "tests.test_normalize(normalize)"
   ]
  },
  {
   "cell_type": "markdown",
   "metadata": {
    "deletable": true,
    "editable": true
   },
   "source": [
    "### One-hot encode\n",
    "Just like the previous code cell, you'll be implementing a function for preprocessing.  This time, you'll implement the `one_hot_encode` function. The input, `x`, are a list of labels.  Implement the function to return the list of labels as One-Hot encoded Numpy array.  The possible values for labels are 0 to 9. The one-hot encoding function should return the same encoding for each value between each call to `one_hot_encode`.  Make sure to save the map of encodings outside the function.\n",
    "\n",
    "Hint: Don't reinvent the wheel."
   ]
  },
  {
   "cell_type": "code",
   "execution_count": 5,
   "metadata": {
    "collapsed": false,
    "deletable": true,
    "editable": true,
    "scrolled": true
   },
   "outputs": [
    {
     "name": "stdout",
     "output_type": "stream",
     "text": [
      "Tests Passed\n"
     ]
    }
   ],
   "source": [
    "encode = lambda x: np.array([int(i == x) for i in range(10)])\n",
    "\n",
    "def one_hot_encode(x):\n",
    "    \"\"\"\n",
    "    One hot encode a list of sample labels. Return a one-hot encoded vector for each label.\n",
    "    : x: List of sample Labels\n",
    "    : return: Numpy array of one-hot encoded labels\n",
    "    \"\"\"\n",
    "    # TODO: Implement Function\n",
    "            \n",
    "    return np.array(list(map(encode, x)))\n",
    "\n",
    "\"\"\"\n",
    "DON'T MODIFY ANYTHING IN THIS CELL THAT IS BELOW THIS LINE\n",
    "\"\"\"\n",
    "tests.test_one_hot_encode(one_hot_encode)"
   ]
  },
  {
   "cell_type": "markdown",
   "metadata": {
    "deletable": true,
    "editable": true
   },
   "source": [
    "### Randomize Data\n",
    "As you saw from exploring the data above, the order of the samples are randomized.  It doesn't hurt to randomize it again, but you don't need to for this dataset."
   ]
  },
  {
   "cell_type": "markdown",
   "metadata": {
    "deletable": true,
    "editable": true
   },
   "source": [
    "## Preprocess all the data and save it\n",
    "Running the code cell below will preprocess all the CIFAR-10 data and save it to file. The code below also uses 10% of the training data for validation."
   ]
  },
  {
   "cell_type": "code",
   "execution_count": 6,
   "metadata": {
    "collapsed": false,
    "deletable": true,
    "editable": true
   },
   "outputs": [],
   "source": [
    "\"\"\"\n",
    "DON'T MODIFY ANYTHING IN THIS CELL\n",
    "\"\"\"\n",
    "# Preprocess Training, Validation, and Testing Data\n",
    "helper.preprocess_and_save_data(cifar10_dataset_folder_path, normalize, one_hot_encode)"
   ]
  },
  {
   "cell_type": "markdown",
   "metadata": {
    "deletable": true,
    "editable": true
   },
   "source": [
    "# Check Point\n",
    "This is your first checkpoint.  If you ever decide to come back to this notebook or have to restart the notebook, you can start from here.  The preprocessed data has been saved to disk."
   ]
  },
  {
   "cell_type": "code",
   "execution_count": 7,
   "metadata": {
    "collapsed": true,
    "deletable": true,
    "editable": true
   },
   "outputs": [],
   "source": [
    "\"\"\"\n",
    "DON'T MODIFY ANYTHING IN THIS CELL\n",
    "\"\"\"\n",
    "import pickle\n",
    "import problem_unittests as tests\n",
    "import helper\n",
    "\n",
    "# Load the Preprocessed Validation data\n",
    "valid_features, valid_labels = pickle.load(open('preprocess_validation.p', mode='rb'))"
   ]
  },
  {
   "cell_type": "markdown",
   "metadata": {
    "deletable": true,
    "editable": true
   },
   "source": [
    "## Build the network\n",
    "For the neural network, you'll build each layer into a function.  Most of the code you've seen has been outside of functions. To test your code more thoroughly, we require that you put each layer in a function.  This allows us to give you better feedback and test for simple mistakes using our unittests before you submit your project.\n",
    "\n",
    "If you're finding it hard to dedicate enough time for this course a week, we've provided a small shortcut to this part of the project. In the next couple of problems, you'll have the option to use [TensorFlow Layers](https://www.tensorflow.org/api_docs/python/tf/layers) or [TensorFlow Layers (contrib)](https://www.tensorflow.org/api_guides/python/contrib.layers) to build each layer, except \"Convolutional & Max Pooling\" layer.  TF Layers is similar to Keras's and TFLearn's abstraction to layers, so it's easy to pickup.\n",
    "\n",
    "If you would like to get the most of this course, try to solve all the problems without TF Layers.  Let's begin!\n",
    "### Input\n",
    "The neural network needs to read the image data, one-hot encoded labels, and dropout keep probability. Implement the following functions\n",
    "* Implement `neural_net_image_input`\n",
    " * Return a [TF Placeholder](https://www.tensorflow.org/api_docs/python/tf/placeholder)\n",
    " * Set the shape using `image_shape` with batch size set to `None`.\n",
    " * Name the TensorFlow placeholder \"x\" using the TensorFlow `name` parameter in the [TF Placeholder](https://www.tensorflow.org/api_docs/python/tf/placeholder).\n",
    "* Implement `neural_net_label_input`\n",
    " * Return a [TF Placeholder](https://www.tensorflow.org/api_docs/python/tf/placeholder)\n",
    " * Set the shape using `n_classes` with batch size set to `None`.\n",
    " * Name the TensorFlow placeholder \"y\" using the TensorFlow `name` parameter in the [TF Placeholder](https://www.tensorflow.org/api_docs/python/tf/placeholder).\n",
    "* Implement `neural_net_keep_prob_input`\n",
    " * Return a [TF Placeholder](https://www.tensorflow.org/api_docs/python/tf/placeholder) for dropout keep probability.\n",
    " * Name the TensorFlow placeholder \"keep_prob\" using the TensorFlow `name` parameter in the [TF Placeholder](https://www.tensorflow.org/api_docs/python/tf/placeholder).\n",
    "\n",
    "These names will be used at the end of the project to load your saved model.\n",
    "\n",
    "Note: `None` for shapes in TensorFlow allow for a dynamic size."
   ]
  },
  {
   "cell_type": "code",
   "execution_count": 8,
   "metadata": {
    "collapsed": false,
    "deletable": true,
    "editable": true
   },
   "outputs": [
    {
     "name": "stdout",
     "output_type": "stream",
     "text": [
      "Image Input Tests Passed.\n",
      "Label Input Tests Passed.\n",
      "Keep Prob Tests Passed.\n"
     ]
    }
   ],
   "source": [
    "import tensorflow as tf\n",
    "\n",
    "def neural_net_image_input(image_shape):\n",
    "    \"\"\"\n",
    "    Return a Tensor for a bach of image input\n",
    "    : image_shape: Shape of the images\n",
    "    : return: Tensor for image input.\n",
    "    \"\"\"\n",
    "    # TODO: Implement Function\n",
    "   \n",
    "    input_shape = np.append(None,image_shape)\n",
    "    return tf.placeholder(tf.float32, input_shape, name= \"x\")\n",
    "\n",
    "\n",
    "def neural_net_label_input(n_classes):\n",
    "    \"\"\"\n",
    "    Return a Tensor for a batch of label input\n",
    "    : n_classes: Number of classes\n",
    "    : return: Tensor for label input.\n",
    "    \"\"\"\n",
    "    # TODO: Implement Function\n",
    "    return tf.placeholder(tf.float32, [None, n_classes], name= \"y\")\n",
    "\n",
    "\n",
    "def neural_net_keep_prob_input():\n",
    "    \"\"\"\n",
    "    Return a Tensor for keep probability\n",
    "    : return: Tensor for keep probability.\n",
    "    \"\"\"\n",
    "    # TODO: Implement Function\n",
    "    return tf.placeholder(tf.float32, name= \"keep_prob\")\n",
    "\n",
    "\n",
    "\"\"\"\n",
    "DON'T MODIFY ANYTHING IN THIS CELL THAT IS BELOW THIS LINE\n",
    "\"\"\"\n",
    "tf.reset_default_graph()\n",
    "tests.test_nn_image_inputs(neural_net_image_input)\n",
    "tests.test_nn_label_inputs(neural_net_label_input)\n",
    "tests.test_nn_keep_prob_inputs(neural_net_keep_prob_input)"
   ]
  },
  {
   "cell_type": "markdown",
   "metadata": {
    "deletable": true,
    "editable": true
   },
   "source": [
    "### Convolution and Max Pooling Layer\n",
    "Convolution layers have a lot of success with images. For this code cell, you should implement the function `conv2d_maxpool` to apply convolution then max pooling:\n",
    "* Create the weight and bias using `conv_ksize`, `conv_num_outputs` and the shape of `x_tensor`.\n",
    "* Apply a convolution to `x_tensor` using weight and `conv_strides`.\n",
    " * We recommend you use same padding, but you're welcome to use any padding.\n",
    "* Add bias\n",
    "* Add a nonlinear activation to the convolution.\n",
    "* Apply Max Pooling using `pool_ksize` and `pool_strides`.\n",
    " * We recommend you use same padding, but you're welcome to use any padding.\n",
    "\n",
    "Note: You **can't** use [TensorFlow Layers](https://www.tensorflow.org/api_docs/python/tf/layers) or [TensorFlow Layers (contrib)](https://www.tensorflow.org/api_guides/python/contrib.layers) for this layer.  You're free to use any TensorFlow package for all the other layers."
   ]
  },
  {
   "cell_type": "code",
   "execution_count": 9,
   "metadata": {
    "collapsed": false,
    "deletable": true,
    "editable": true
   },
   "outputs": [
    {
     "name": "stdout",
     "output_type": "stream",
     "text": [
      "Tests Passed\n"
     ]
    }
   ],
   "source": [
    "def conv2d_maxpool(x_tensor, conv_num_outputs, conv_ksize, conv_strides, pool_ksize, pool_strides):\n",
    "    \"\"\"\n",
    "    Apply convolution then max pooling to x_tensor\n",
    "    :param x_tensor: TensorFlow Tensor\n",
    "    :param conv_num_outputs: Number of outputs for the convolutional layer\n",
    "    :param conv_strides: Stride 2-D Tuple for convolution\n",
    "    :param pool_ksize: kernal size 2-D Tuple for pool\n",
    "    :param pool_strides: Stride 2-D Tuple for pool\n",
    "    : return: A tensor that represents convolution and max pooling of x_tensor\n",
    "    \"\"\"\n",
    "\n",
    "    # TODO: Implement Function\n",
    "    f_weights = tf.Variable(tf.random_normal([conv_ksize[0],conv_ksize[1],x_tensor.get_shape().as_list()[-1],conv_num_outputs],stddev=0.01))\n",
    "    f_bias =  tf.Variable(tf.random_normal([conv_num_outputs]))\n",
    "    f_strides = [1, conv_strides[0], conv_strides [1],1]\n",
    "    \n",
    "    conv_layer = tf.nn.conv2d(x_tensor, f_weights, f_strides, padding='SAME')\n",
    "    conv_layer = tf.nn.bias_add(conv_layer, f_bias)\n",
    "    conv_layer = tf.nn.relu(conv_layer)\n",
    "    \n",
    "\n",
    "    p_strides = [1, pool_strides[0], pool_strides[1], 1]\n",
    "    p_size = [1, pool_ksize[0], pool_ksize[1], 1]\n",
    "    \n",
    "    conv_layer = tf.nn.max_pool(conv_layer, p_size, p_strides, padding='SAME' )\n",
    "    return conv_layer \n",
    "\n",
    "\n",
    "\"\"\"\n",
    "DON'T MODIFY ANYTHING IN THIS CELL THAT IS BELOW THIS LINE\n",
    "\"\"\"\n",
    "tests.test_con_pool(conv2d_maxpool)"
   ]
  },
  {
   "cell_type": "markdown",
   "metadata": {
    "deletable": true,
    "editable": true
   },
   "source": [
    "### Flatten Layer\n",
    "Implement the `flatten` function to change the dimension of `x_tensor` from a 4-D tensor to a 2-D tensor.  The output should be the shape (*Batch Size*, *Flattened Image Size*). You can use [TensorFlow Layers](https://www.tensorflow.org/api_docs/python/tf/layers) or [TensorFlow Layers (contrib)](https://www.tensorflow.org/api_guides/python/contrib.layers) for this layer."
   ]
  },
  {
   "cell_type": "code",
   "execution_count": 10,
   "metadata": {
    "collapsed": false,
    "deletable": true,
    "editable": true
   },
   "outputs": [
    {
     "name": "stdout",
     "output_type": "stream",
     "text": [
      "Tests Passed\n"
     ]
    }
   ],
   "source": [
    "def flatten(x_tensor):\n",
    "    \"\"\"\n",
    "    Flatten x_tensor to (Batch Size, Flattened Image Size)\n",
    "    : x_tensor: A tensor of size (Batch Size, ...), where ... are the image dimensions.\n",
    "    : return: A tensor of size (Batch Size, Flattened Image Size).\n",
    "    \"\"\"\n",
    "    # TODO: Implement Function\n",
    "    shape = x_tensor.get_shape().as_list()\n",
    "    image_shape = np.prod(shape[1:])\n",
    "    \n",
    "    return tf.reshape(x_tensor,[-1,image_shape])\n",
    "\n",
    "\n",
    "\"\"\"\n",
    "DON'T MODIFY ANYTHING IN THIS CELL THAT IS BELOW THIS LINE\n",
    "\"\"\"\n",
    "tests.test_flatten(flatten)"
   ]
  },
  {
   "cell_type": "markdown",
   "metadata": {
    "deletable": true,
    "editable": true
   },
   "source": [
    "### Fully-Connected Layer\n",
    "Implement the `fully_conn` function to apply a fully connected layer to `x_tensor` with the shape (*Batch Size*, *num_outputs*). You can use [TensorFlow Layers](https://www.tensorflow.org/api_docs/python/tf/layers) or [TensorFlow Layers (contrib)](https://www.tensorflow.org/api_guides/python/contrib.layers) for this layer."
   ]
  },
  {
   "cell_type": "code",
   "execution_count": 11,
   "metadata": {
    "collapsed": false,
    "deletable": true,
    "editable": true
   },
   "outputs": [
    {
     "name": "stdout",
     "output_type": "stream",
     "text": [
      "Tests Passed\n"
     ]
    }
   ],
   "source": [
    "def fully_conn(x_tensor, num_outputs):\n",
    "    \"\"\"\n",
    "    Apply a fully connected layer to x_tensor using weight and bias\n",
    "    : x_tensor: A 2-D tensor where the first dimension is batch size.\n",
    "    : num_outputs: The number of output that the new tensor should be.\n",
    "    : return: A 2-D tensor where the second dimension is num_outputs.\n",
    "    \"\"\"\n",
    "    # TODO: Implement Function\n",
    "    input_shape = x_tensor.get_shape().as_list()\n",
    "   \n",
    "    fc_weights = tf.Variable(tf.random_normal([input_shape[1],num_outputs],stddev=0.01))\n",
    "    fc_bias =tf.Variable(tf.random_normal([num_outputs]))\n",
    "    \n",
    "    # Add histogram summary for weights\n",
    "    tf.summary.histogram('fc_weights_summ', fc_weights)\n",
    "\n",
    "    output = tf.add(tf.matmul(x_tensor, fc_weights), fc_bias)\n",
    "    output = tf.nn.relu(output)\n",
    "    \n",
    "    return output\n",
    "\n",
    "\n",
    "\"\"\"\n",
    "DON'T MODIFY ANYTHING IN THIS CELL THAT IS BELOW THIS LINE\n",
    "\"\"\"\n",
    "tests.test_fully_conn(fully_conn)"
   ]
  },
  {
   "cell_type": "markdown",
   "metadata": {
    "deletable": true,
    "editable": true
   },
   "source": [
    "### Output Layer\n",
    "Implement the `output` function to apply a fully connected layer to `x_tensor` with the shape (*Batch Size*, *num_outputs*). You can use [TensorFlow Layers](https://www.tensorflow.org/api_docs/python/tf/layers) or [TensorFlow Layers (contrib)](https://www.tensorflow.org/api_guides/python/contrib.layers) for this layer.\n",
    "\n",
    "Note: Activation, softmax, or cross entropy shouldn't be applied to this."
   ]
  },
  {
   "cell_type": "code",
   "execution_count": 12,
   "metadata": {
    "collapsed": false,
    "deletable": true,
    "editable": true
   },
   "outputs": [
    {
     "name": "stdout",
     "output_type": "stream",
     "text": [
      "Tests Passed\n"
     ]
    }
   ],
   "source": [
    "def output(x_tensor, num_outputs):\n",
    "    \"\"\"\n",
    "    Apply a output layer to x_tensor using weight and bias\n",
    "    : x_tensor: A 2-D tensor where the first dimension is batch size.\n",
    "    : num_outputs: The number of output that the new tensor should be.\n",
    "    : return: A 2-D tensor where the second dimension is num_outputs.\n",
    "    \"\"\"\n",
    "    # TODO: Implement Function\n",
    "    input_shape = x_tensor.get_shape().as_list()\n",
    "   \n",
    "    op_weights = tf.Variable(tf.random_normal([input_shape[1],num_outputs],stddev=0.01))\n",
    "    op_bias =tf.Variable(tf.random_normal([num_outputs]))\n",
    "    \n",
    "    # Add histogram summary for weights\n",
    "    tf.summary.histogram('op_weights_summ', op_weights)\n",
    "\n",
    "    output = tf.add(tf.matmul(x_tensor, op_weights), op_bias)\n",
    "    return output\n",
    "\n",
    "\"\"\"\n",
    "DON'T MODIFY ANYTHING IN THIS CELL THAT IS BELOW THIS LINE\n",
    "\"\"\"\n",
    "tests.test_output(output)"
   ]
  },
  {
   "cell_type": "markdown",
   "metadata": {
    "deletable": true,
    "editable": true
   },
   "source": [
    "### Create Convolutional Model\n",
    "Implement the function `conv_net` to create a convolutional neural network model. The function takes in a batch of images, `x`, and outputs logits.  Use the layers you created above to create this model:\n",
    "\n",
    "* Apply 1, 2, or 3 Convolution and Max Pool layers\n",
    "* Apply a Flatten Layer\n",
    "* Apply 1, 2, or 3 Fully Connected Layers\n",
    "* Apply an Output Layer\n",
    "* Return the output\n",
    "* Apply [TensorFlow's Dropout](https://www.tensorflow.org/api_docs/python/tf/nn/dropout) to one or more layers in the model using `keep_prob`. "
   ]
  },
  {
   "cell_type": "code",
   "execution_count": 48,
   "metadata": {
    "collapsed": false,
    "deletable": true,
    "editable": true
   },
   "outputs": [
    {
     "name": "stdout",
     "output_type": "stream",
     "text": [
      "Neural Network Built!\n"
     ]
    }
   ],
   "source": [
    "def conv_net(x, keep_prob):\n",
    "    \"\"\"\n",
    "    Create a convolutional neural network model\n",
    "    : x: Placeholder tensor that holds image data.\n",
    "    : keep_prob: Placeholder tensor that hold dropout keep probability.\n",
    "    : return: Tensor that represents logits\n",
    "    \"\"\"\n",
    "    # TODO: Apply 1, 2, or 3 Convolution and Max Pool layers\n",
    "    #    Play around with different number of outputs, kernel size and stride\n",
    "    # Function Definition from Above:\n",
    "    #    conv2d_maxpool(x_tensor, conv_num_outputs, conv_ksize, conv_strides, pool_ksize, pool_strides)\n",
    "    \n",
    "    # First layer: Convolution and Max Pool 32x32x3 to 8x8x64\n",
    "    with tf.name_scope(\"conv_layer_1\"):\n",
    "        layer1_conv_num_outputs = 64\n",
    "        layer1_conv_ksize = (4, 4)\n",
    "        layer1_conv_strides = (2, 2)\n",
    "        layer1_pool_ksize = (2, 2)\n",
    "        layer1_pool_strides = (2, 2)\n",
    "\n",
    "        conv_output = conv2d_maxpool(x, layer1_conv_num_outputs, layer1_conv_ksize, layer1_conv_strides, layer1_pool_ksize, layer1_pool_strides)\n",
    "    \n",
    "    # Second layer: Convolution and Max Pool 8x8x64 to 4x4x128\n",
    "    with tf.name_scope(\"conv_layer_2\"):\n",
    "        layer2_conv_num_outputs = 128\n",
    "        layer2_conv_ksize = (3, 3)\n",
    "        layer2_conv_strides = (1, 1)\n",
    "        layer2_pool_ksize = (2, 2)\n",
    "        layer2_pool_strides = (2, 2)\n",
    "\n",
    "        conv_output = conv2d_maxpool(conv_output, layer2_conv_num_outputs, layer2_conv_ksize, layer2_conv_strides, layer2_pool_ksize, layer2_pool_strides)\n",
    "    \n",
    "    # Third layer: Convolution and Max Pool 4x4x128 to 1x1x256\n",
    "    with tf.name_scope(\"conv_layer_3\"):\n",
    "        layer3_conv_num_outputs = 256\n",
    "        layer3_conv_ksize = (2, 2)\n",
    "        layer3_conv_strides = (2, 2)\n",
    "        layer3_pool_ksize = (2, 2)\n",
    "        layer3_pool_strides = (2, 2)\n",
    "\n",
    "        conv_output = conv2d_maxpool(conv_output, layer3_conv_num_outputs, layer3_conv_ksize, layer3_conv_strides, layer3_pool_ksize, layer3_pool_strides)\n",
    "\n",
    "    # TODO: Apply a Flatten Layer\n",
    "    # Function Definition from Above:\n",
    "    #   flatten(x_tensor)\n",
    "    # Fourth layer: Flatten Layer 1x1x256 to 1024\n",
    "    with tf.name_scope(\"flatten_layer\"):\n",
    "        conv_output = flatten(conv_output)\n",
    "\n",
    "    # TODO: Apply 1, 2, or 3 Fully Connected Layers\n",
    "    #    Play around with different number of outputs\n",
    "    # Function Definition from Above:\n",
    "    #   fully_conn(x_tensor, num_outputs)\n",
    "\n",
    "    # Fifth layer: Fully Connected and Dropout 1024 to 512\n",
    "    with tf.name_scope(\"fully_connected_layer_1\"):\n",
    "        fc_outputs = 512\n",
    "        conv_output = fully_conn(conv_output, fc_outputs)\n",
    "        conv_output = tf.nn.dropout(conv_output, keep_prob)\n",
    "    \n",
    "    # Sixth layer: Fully Connected and Dropout 512 to 1024\n",
    "    with tf.name_scope(\"fully_connected_layer_2\"):\n",
    "        fc_outputs = 1024\n",
    "        conv_output = fully_conn(conv_output, fc_outputs)\n",
    "        conv_output = tf.nn.dropout(conv_output, keep_prob)\n",
    "    \n",
    "    # Sixth layer: Fully Connected and Dropout 1024 to 2048\n",
    "    with tf.name_scope(\"fully_connected_layer_3\"):\n",
    "        fc_outputs = 2048\n",
    "        conv_output = fully_conn(conv_output, fc_outputs)\n",
    "        conv_output = tf.nn.dropout(conv_output, keep_prob)\n",
    "    \n",
    "    # TODO: Apply an Output Layer\n",
    "    #    Set this to the number of classes\n",
    "    # Function Definition from Above:\n",
    "    #   output(x_tensor, num_outputs)\n",
    "\n",
    "    # Seventh layer: Output 2048 to 10\n",
    "    with tf.name_scope(\"output_layer\"):\n",
    "        ol_outputs = 10\n",
    "        conv_output = output(conv_output, ol_outputs)\n",
    "    # TODO: return output\n",
    "    return conv_output\n",
    "\n",
    "\n",
    "\"\"\"\n",
    "DON'T MODIFY ANYTHING IN THIS CELL THAT IS BELOW THIS LINE\n",
    "\"\"\"\n",
    "\n",
    "##############################\n",
    "## Build the Neural Network ##\n",
    "##############################\n",
    "\n",
    "# Remove previous weights, bias, inputs, etc..\n",
    "tf.reset_default_graph()\n",
    "\n",
    "# Inputs\n",
    "x = neural_net_image_input((32, 32, 3))\n",
    "y = neural_net_label_input(10)\n",
    "keep_prob = neural_net_keep_prob_input()\n",
    "\n",
    "# Model\n",
    "logits = conv_net(x, keep_prob)\n",
    "\n",
    "# Name logits Tensor, so that is can be loaded from disk after training\n",
    "logits = tf.identity(logits, name='logits')\n",
    "\n",
    "# Loss and Optimizer\n",
    "cost = tf.reduce_mean(tf.nn.softmax_cross_entropy_with_logits(logits=logits, labels=y))\n",
    "optimizer = tf.train.AdamOptimizer().minimize(cost)\n",
    "\n",
    "# Accuracy\n",
    "correct_pred = tf.equal(tf.argmax(logits, 1), tf.argmax(y, 1))\n",
    "accuracy = tf.reduce_mean(tf.cast(correct_pred, tf.float32), name='accuracy')\n",
    "\n",
    "tests.test_conv_net(conv_net)"
   ]
  },
  {
   "cell_type": "markdown",
   "metadata": {
    "deletable": true,
    "editable": true
   },
   "source": [
    "## Train the Neural Network\n",
    "### Single Optimization\n",
    "Implement the function `train_neural_network` to do a single optimization.  The optimization should use `optimizer` to optimize in `session` with a `feed_dict` of the following:\n",
    "* `x` for image input\n",
    "* `y` for labels\n",
    "* `keep_prob` for keep probability for dropout\n",
    "\n",
    "This function will be called for each batch, so `tf.global_variables_initializer()` has already been called.\n",
    "\n",
    "Note: Nothing needs to be returned. This function is only optimizing the neural network."
   ]
  },
  {
   "cell_type": "code",
   "execution_count": 49,
   "metadata": {
    "collapsed": false,
    "deletable": true,
    "editable": true
   },
   "outputs": [
    {
     "name": "stdout",
     "output_type": "stream",
     "text": [
      "Tests Passed\n"
     ]
    }
   ],
   "source": [
    "def train_neural_network(session, optimizer, keep_probability, feature_batch, label_batch):\n",
    "    \"\"\"\n",
    "    Optimize the session on a batch of images and labels\n",
    "    : session: Current TensorFlow session\n",
    "    : optimizer: TensorFlow optimizer function\n",
    "    : keep_probability: keep probability\n",
    "    : feature_batch: Batch of Numpy image data\n",
    "    : label_batch: Batch of Numpy label data\n",
    "    \"\"\"\n",
    "    # TODO: Implement Function\n",
    "    return session.run(optimizer, feed_dict={x: feature_batch, y: label_batch, keep_prob: keep_probability})\n",
    "    \n",
    "\n",
    "\n",
    "\"\"\"\n",
    "DON'T MODIFY ANYTHING IN THIS CELL THAT IS BELOW THIS LINE\n",
    "\"\"\"\n",
    "tests.test_train_nn(train_neural_network)"
   ]
  },
  {
   "cell_type": "markdown",
   "metadata": {
    "deletable": true,
    "editable": true
   },
   "source": [
    "### Show Stats\n",
    "Implement the function `print_stats` to print loss and validation accuracy.  Use the global variables `valid_features` and `valid_labels` to calculate validation accuracy.  Use a keep probability of `1.0` to calculate the loss and validation accuracy."
   ]
  },
  {
   "cell_type": "code",
   "execution_count": 50,
   "metadata": {
    "collapsed": false,
    "deletable": true,
    "editable": true
   },
   "outputs": [],
   "source": [
    "def print_stats(session, feature_batch, label_batch, cost, accuracy):\n",
    "    \"\"\"\n",
    "    Print information about loss and validation accuracy\n",
    "    : session: Current TensorFlow session\n",
    "    : feature_batch: Batch of Numpy image data\n",
    "    : label_batch: Batch of Numpy label data\n",
    "    : cost: TensorFlow cost function\n",
    "    : accuracy: TensorFlow accuracy function\n",
    "    \"\"\"\n",
    "    # TODO: Implement Function\n",
    "    loss = session.run(cost, feed_dict={x: feature_batch,y: label_batch, keep_prob: 1.})\n",
    "    tf.summary.scalar(\"cost\", loss)\n",
    "    valid_accuracy = sess.run(accuracy, feed_dict={x: valid_features, \n",
    "                                                   y: valid_labels,\n",
    "                                                   keep_prob: 1.})\n",
    "    tf.summary.scalar(\"accuracy\", valid_accuracy)\n",
    "    \n",
    "    print('Loss: {:>10.4f} Validation Accuracy: {:.6f}'.format(\n",
    "                loss,\n",
    "                valid_accuracy))\n"
   ]
  },
  {
   "cell_type": "markdown",
   "metadata": {
    "deletable": true,
    "editable": true
   },
   "source": [
    "### Hyperparameters\n",
    "Tune the following parameters:\n",
    "* Set `epochs` to the number of iterations until the network stops learning or start overfitting\n",
    "* Set `batch_size` to the highest number that your machine has memory for.  Most people set them to common sizes of memory:\n",
    " * 64\n",
    " * 128\n",
    " * 256\n",
    " * ...\n",
    "* Set `keep_probability` to the probability of keeping a node using dropout"
   ]
  },
  {
   "cell_type": "code",
   "execution_count": 53,
   "metadata": {
    "collapsed": true,
    "deletable": true,
    "editable": true
   },
   "outputs": [],
   "source": [
    "epochs = 50\n",
    "batch_size = 256\n",
    "keep_probability = 0.9"
   ]
  },
  {
   "cell_type": "markdown",
   "metadata": {
    "deletable": true,
    "editable": true
   },
   "source": [
    "### Train on a Single CIFAR-10 Batch\n",
    "Instead of training the neural network on all the CIFAR-10 batches of data, let's use a single batch. This should save time while you iterate on the model to get a better accuracy.  Once the final validation accuracy is 50% or greater, run the model on all the data in the next section."
   ]
  },
  {
   "cell_type": "code",
   "execution_count": 54,
   "metadata": {
    "collapsed": false,
    "deletable": true,
    "editable": true
   },
   "outputs": [
    {
     "name": "stdout",
     "output_type": "stream",
     "text": [
      "Epoch  1, CIFAR-10 Batch 1:  Loss:     2.3221 Validation Accuracy: 0.097800\n",
      "Epoch  2, CIFAR-10 Batch 1:  Loss:     2.3057 Validation Accuracy: 0.105000\n",
      "Epoch  3, CIFAR-10 Batch 1:  Loss:     2.2670 Validation Accuracy: 0.160600\n",
      "Epoch  4, CIFAR-10 Batch 1:  Loss:     2.1799 Validation Accuracy: 0.193200\n",
      "Epoch  5, CIFAR-10 Batch 1:  Loss:     2.1583 Validation Accuracy: 0.236600\n",
      "Epoch  6, CIFAR-10 Batch 1:  Loss:     2.1429 Validation Accuracy: 0.247000\n",
      "Epoch  7, CIFAR-10 Batch 1:  Loss:     2.1270 Validation Accuracy: 0.253800\n",
      "Epoch  8, CIFAR-10 Batch 1:  Loss:     2.0781 Validation Accuracy: 0.277800\n",
      "Epoch  9, CIFAR-10 Batch 1:  Loss:     1.9889 Validation Accuracy: 0.293600\n",
      "Epoch 10, CIFAR-10 Batch 1:  Loss:     1.9432 Validation Accuracy: 0.303400\n",
      "Epoch 11, CIFAR-10 Batch 1:  Loss:     1.8393 Validation Accuracy: 0.306200\n",
      "Epoch 12, CIFAR-10 Batch 1:  Loss:     1.7948 Validation Accuracy: 0.324600\n",
      "Epoch 13, CIFAR-10 Batch 1:  Loss:     1.6210 Validation Accuracy: 0.359400\n",
      "Epoch 14, CIFAR-10 Batch 1:  Loss:     1.5384 Validation Accuracy: 0.360200\n",
      "Epoch 15, CIFAR-10 Batch 1:  Loss:     1.4578 Validation Accuracy: 0.377400\n",
      "Epoch 16, CIFAR-10 Batch 1:  Loss:     1.3860 Validation Accuracy: 0.386800\n",
      "Epoch 17, CIFAR-10 Batch 1:  Loss:     1.3670 Validation Accuracy: 0.399800\n",
      "Epoch 18, CIFAR-10 Batch 1:  Loss:     1.3063 Validation Accuracy: 0.406200\n",
      "Epoch 19, CIFAR-10 Batch 1:  Loss:     1.2540 Validation Accuracy: 0.409600\n",
      "Epoch 20, CIFAR-10 Batch 1:  Loss:     1.1741 Validation Accuracy: 0.421600\n",
      "Epoch 21, CIFAR-10 Batch 1:  Loss:     1.0865 Validation Accuracy: 0.421400\n",
      "Epoch 22, CIFAR-10 Batch 1:  Loss:     1.0215 Validation Accuracy: 0.429400\n",
      "Epoch 23, CIFAR-10 Batch 1:  Loss:     0.9321 Validation Accuracy: 0.432200\n",
      "Epoch 24, CIFAR-10 Batch 1:  Loss:     0.9193 Validation Accuracy: 0.424600\n",
      "Epoch 25, CIFAR-10 Batch 1:  Loss:     0.8833 Validation Accuracy: 0.445000\n",
      "Epoch 26, CIFAR-10 Batch 1:  Loss:     0.8525 Validation Accuracy: 0.449600\n",
      "Epoch 27, CIFAR-10 Batch 1:  Loss:     0.7965 Validation Accuracy: 0.435800\n",
      "Epoch 28, CIFAR-10 Batch 1:  Loss:     0.7617 Validation Accuracy: 0.458800\n",
      "Epoch 29, CIFAR-10 Batch 1:  Loss:     0.6597 Validation Accuracy: 0.458600\n",
      "Epoch 30, CIFAR-10 Batch 1:  Loss:     0.6406 Validation Accuracy: 0.461600\n",
      "Epoch 31, CIFAR-10 Batch 1:  Loss:     0.5959 Validation Accuracy: 0.468000\n",
      "Epoch 32, CIFAR-10 Batch 1:  Loss:     0.5911 Validation Accuracy: 0.458200\n",
      "Epoch 33, CIFAR-10 Batch 1:  Loss:     0.5985 Validation Accuracy: 0.460600\n",
      "Epoch 34, CIFAR-10 Batch 1:  Loss:     0.6067 Validation Accuracy: 0.458800\n",
      "Epoch 35, CIFAR-10 Batch 1:  Loss:     0.6407 Validation Accuracy: 0.430600\n",
      "Epoch 36, CIFAR-10 Batch 1:  Loss:     0.5842 Validation Accuracy: 0.450600\n",
      "Epoch 37, CIFAR-10 Batch 1:  Loss:     0.5207 Validation Accuracy: 0.469000\n",
      "Epoch 38, CIFAR-10 Batch 1:  Loss:     0.4526 Validation Accuracy: 0.469400\n",
      "Epoch 39, CIFAR-10 Batch 1:  Loss:     0.3969 Validation Accuracy: 0.474600\n",
      "Epoch 40, CIFAR-10 Batch 1:  Loss:     0.4302 Validation Accuracy: 0.457200\n",
      "Epoch 41, CIFAR-10 Batch 1:  Loss:     0.4160 Validation Accuracy: 0.456600\n",
      "Epoch 42, CIFAR-10 Batch 1:  Loss:     0.4126 Validation Accuracy: 0.472800\n",
      "Epoch 43, CIFAR-10 Batch 1:  Loss:     0.3987 Validation Accuracy: 0.481400\n",
      "Epoch 44, CIFAR-10 Batch 1:  Loss:     0.3577 Validation Accuracy: 0.467200\n",
      "Epoch 45, CIFAR-10 Batch 1:  Loss:     0.3587 Validation Accuracy: 0.462800\n",
      "Epoch 46, CIFAR-10 Batch 1:  Loss:     0.3047 Validation Accuracy: 0.467600\n",
      "Epoch 47, CIFAR-10 Batch 1:  Loss:     0.3013 Validation Accuracy: 0.463400\n",
      "Epoch 48, CIFAR-10 Batch 1:  Loss:     0.3186 Validation Accuracy: 0.446200\n",
      "Epoch 49, CIFAR-10 Batch 1:  Loss:     0.2950 Validation Accuracy: 0.447200\n",
      "Epoch 50, CIFAR-10 Batch 1:  Loss:     0.3773 Validation Accuracy: 0.430200\n",
      "Processing Time 0:02:48.050649\n"
     ]
    },
    {
     "data": {
      "image/png": "[encoded data removed]",
      "text/plain": [
       "<matplotlib.figure.Figure at 0x7f296044d9b0>"
      ]
     },
     "metadata": {
      "image/png": {
       "height": 265,
       "width": 392
      }
     },
     "output_type": "display_data"
    }
   ],
   "source": [
    "import matplotlib.pyplot as plt1\n",
    "import datetime\n",
    "import time\n",
    "\n",
    "xpoints = []\n",
    "ypoints = []\n",
    "def plot_progress(session, feature_batch, label_batch, cost, accuracy, epoch, ax):\n",
    "    \"\"\"\n",
    "    Print information about loss and validation accuracy\n",
    "    : session: Current TensorFlow session\n",
    "    : feature_batch: Batch of Numpy image data\n",
    "    : label_batch: Batch of Numpy label data\n",
    "    : cost: TensorFlow cost function\n",
    "    : accuracy: TensorFlow accuracy function\n",
    "    \"\"\"\n",
    "    # TODO: Implement Function\n",
    "    loss = session.run(cost, feed_dict={x: feature_batch,y: label_batch, keep_prob: 1.})\n",
    "    valid_accuracy = sess.run(accuracy, feed_dict={x: valid_features, \n",
    "                                                   y: valid_labels,\n",
    "                                                   keep_prob: 1.})\n",
    "    pltsin(ax, epoch+1,valid_accuracy, ['b'])\n",
    "    time.sleep(1) \n",
    "    \n",
    "\"\"\"\n",
    "DON'T MODIFY ANYTHING IN THIS CELL\n",
    "\"\"\"\n",
    "def pltsin(ax, x, y, colors=['b']):\n",
    "    global xpoints\n",
    "    global ypoints\n",
    "    xpoints.append(x)\n",
    "    if ax.lines:\n",
    "        for line in ax.lines:\n",
    "            line.set_xdata(xpoints)\n",
    "            ypoints = np.append(ypoints, [y], axis=0)\n",
    "            line.set_ydata(ypoints)\n",
    "    else:\n",
    "        for color in colors:\n",
    "            ypoints = np.append(ypoints, [y], axis=0)\n",
    "            ax.plot(xpoints, ypoints, color)\n",
    "    fig.canvas.draw()\n",
    "\n",
    "fig,ax = plt1.subplots(1,1)\n",
    "ax.set_xlabel('Epochs')\n",
    "ax.set_ylabel('Accuracy')\n",
    "ax.set_xlim(1,epochs)\n",
    "ax.set_ylim(0,1)\n",
    "fig.canvas.draw()\n",
    "\n",
    "start = time.time()    \n",
    "with tf.Session() as sess:\n",
    "\n",
    "    # Save our session\n",
    "    writer = tf.summary.FileWriter('./logs/nn.logs', sess.graph)\n",
    "    \n",
    "    # Initializing the variables\n",
    "    sess.run(tf.global_variables_initializer())\n",
    "    \n",
    "\n",
    "    # Training cycle\n",
    "    for epoch in range(epochs):\n",
    "        batch_i = 1\n",
    "        for batch_features, batch_labels in helper.load_preprocess_training_batch(batch_i, batch_size):\n",
    "            train_neural_network(sess, optimizer, keep_probability, batch_features, batch_labels)\n",
    "        print('Epoch {:>2}, CIFAR-10 Batch {}:  '.format(epoch + 1, batch_i), end='')\n",
    "        print_stats(sess, batch_features, batch_labels, cost, accuracy)\n",
    "        plot_progress(sess, batch_features, batch_labels, cost, accuracy, epoch, ax)\n",
    "        \n",
    "end = time.time()\n",
    "print('Processing Time', datetime.timedelta(seconds=end - start))"
   ]
  },
  {
   "cell_type": "markdown",
   "metadata": {
    "deletable": true,
    "editable": true
   },
   "source": [
    "### Fully Train the Model\n",
    "Now that you got a good accuracy with a single CIFAR-10 batch, try it with all five batches."
   ]
  },
  {
   "cell_type": "code",
   "execution_count": 56,
   "metadata": {
    "collapsed": false,
    "deletable": true,
    "editable": true
   },
   "outputs": [
    {
     "name": "stdout",
     "output_type": "stream",
     "text": [
      "Training...\n",
      "Epoch  1, CIFAR-10 Batch 1:  Loss:     2.3263 Validation Accuracy: 0.097800\n",
      "Epoch  1, CIFAR-10 Batch 2:  Loss:     2.2520 Validation Accuracy: 0.094200\n",
      "Epoch  1, CIFAR-10 Batch 3:  Loss:     2.2750 Validation Accuracy: 0.094200\n",
      "Epoch  1, CIFAR-10 Batch 4:  Loss:     2.2858 Validation Accuracy: 0.129600\n",
      "Epoch  1, CIFAR-10 Batch 5:  Loss:     2.2498 Validation Accuracy: 0.172800\n",
      "Epoch  2, CIFAR-10 Batch 1:  Loss:     2.1527 Validation Accuracy: 0.208400\n",
      "Epoch  2, CIFAR-10 Batch 2:  Loss:     1.9757 Validation Accuracy: 0.245400\n",
      "Epoch  2, CIFAR-10 Batch 3:  Loss:     1.8099 Validation Accuracy: 0.224000\n",
      "Epoch  2, CIFAR-10 Batch 4:  Loss:     1.8167 Validation Accuracy: 0.257200\n",
      "Epoch  2, CIFAR-10 Batch 5:  Loss:     1.8144 Validation Accuracy: 0.274800\n",
      "Epoch  3, CIFAR-10 Batch 1:  Loss:     1.9196 Validation Accuracy: 0.319800\n",
      "Epoch  3, CIFAR-10 Batch 2:  Loss:     2.0359 Validation Accuracy: 0.287800\n",
      "Epoch  3, CIFAR-10 Batch 3:  Loss:     1.5861 Validation Accuracy: 0.315600\n",
      "Epoch  3, CIFAR-10 Batch 4:  Loss:     1.7872 Validation Accuracy: 0.343000\n",
      "Epoch  3, CIFAR-10 Batch 5:  Loss:     1.6596 Validation Accuracy: 0.339400\n",
      "Epoch  4, CIFAR-10 Batch 1:  Loss:     1.8424 Validation Accuracy: 0.353800\n",
      "Epoch  4, CIFAR-10 Batch 2:  Loss:     1.9291 Validation Accuracy: 0.376600\n",
      "Epoch  4, CIFAR-10 Batch 3:  Loss:     1.4532 Validation Accuracy: 0.351400\n",
      "Epoch  4, CIFAR-10 Batch 4:  Loss:     1.6977 Validation Accuracy: 0.380400\n",
      "Epoch  4, CIFAR-10 Batch 5:  Loss:     1.5426 Validation Accuracy: 0.374000\n",
      "Epoch  5, CIFAR-10 Batch 1:  Loss:     1.8059 Validation Accuracy: 0.404200\n",
      "Epoch  5, CIFAR-10 Batch 2:  Loss:     1.8641 Validation Accuracy: 0.400600\n",
      "Epoch  5, CIFAR-10 Batch 3:  Loss:     1.3113 Validation Accuracy: 0.378200\n",
      "Epoch  5, CIFAR-10 Batch 4:  Loss:     1.5292 Validation Accuracy: 0.422200\n",
      "Epoch  5, CIFAR-10 Batch 5:  Loss:     1.5108 Validation Accuracy: 0.405400\n",
      "Epoch  6, CIFAR-10 Batch 1:  Loss:     1.8125 Validation Accuracy: 0.430200\n",
      "Epoch  6, CIFAR-10 Batch 2:  Loss:     1.6601 Validation Accuracy: 0.425400\n",
      "Epoch  6, CIFAR-10 Batch 3:  Loss:     1.2427 Validation Accuracy: 0.413200\n",
      "Epoch  6, CIFAR-10 Batch 4:  Loss:     1.4244 Validation Accuracy: 0.447800\n",
      "Epoch  6, CIFAR-10 Batch 5:  Loss:     1.4479 Validation Accuracy: 0.443000\n",
      "Epoch  7, CIFAR-10 Batch 1:  Loss:     1.7049 Validation Accuracy: 0.460400\n",
      "Epoch  7, CIFAR-10 Batch 2:  Loss:     1.5544 Validation Accuracy: 0.450600\n",
      "Epoch  7, CIFAR-10 Batch 3:  Loss:     1.1765 Validation Accuracy: 0.438800\n",
      "Epoch  7, CIFAR-10 Batch 4:  Loss:     1.3573 Validation Accuracy: 0.454000\n",
      "Epoch  7, CIFAR-10 Batch 5:  Loss:     1.3784 Validation Accuracy: 0.454200\n",
      "Epoch  8, CIFAR-10 Batch 1:  Loss:     1.6305 Validation Accuracy: 0.475000\n",
      "Epoch  8, CIFAR-10 Batch 2:  Loss:     1.3960 Validation Accuracy: 0.467800\n",
      "Epoch  8, CIFAR-10 Batch 3:  Loss:     1.1214 Validation Accuracy: 0.453600\n",
      "Epoch  8, CIFAR-10 Batch 4:  Loss:     1.2543 Validation Accuracy: 0.465800\n",
      "Epoch  8, CIFAR-10 Batch 5:  Loss:     1.3035 Validation Accuracy: 0.467800\n",
      "Epoch  9, CIFAR-10 Batch 1:  Loss:     1.5471 Validation Accuracy: 0.487600\n",
      "Epoch  9, CIFAR-10 Batch 2:  Loss:     1.2736 Validation Accuracy: 0.475000\n",
      "Epoch  9, CIFAR-10 Batch 3:  Loss:     1.0823 Validation Accuracy: 0.474600\n",
      "Epoch  9, CIFAR-10 Batch 4:  Loss:     1.2157 Validation Accuracy: 0.481400\n",
      "Epoch  9, CIFAR-10 Batch 5:  Loss:     1.2865 Validation Accuracy: 0.481600\n",
      "Epoch 10, CIFAR-10 Batch 1:  Loss:     1.4866 Validation Accuracy: 0.485200\n",
      "Epoch 10, CIFAR-10 Batch 2:  Loss:     1.1178 Validation Accuracy: 0.473200\n",
      "Epoch 10, CIFAR-10 Batch 3:  Loss:     1.0540 Validation Accuracy: 0.475800\n",
      "Epoch 10, CIFAR-10 Batch 4:  Loss:     1.1868 Validation Accuracy: 0.490000\n",
      "Epoch 10, CIFAR-10 Batch 5:  Loss:     1.1821 Validation Accuracy: 0.498600\n",
      "Epoch 11, CIFAR-10 Batch 1:  Loss:     1.3364 Validation Accuracy: 0.508800\n",
      "Epoch 11, CIFAR-10 Batch 2:  Loss:     1.0191 Validation Accuracy: 0.482400\n",
      "Epoch 11, CIFAR-10 Batch 3:  Loss:     0.9706 Validation Accuracy: 0.492200\n",
      "Epoch 11, CIFAR-10 Batch 4:  Loss:     1.1252 Validation Accuracy: 0.500800\n",
      "Epoch 11, CIFAR-10 Batch 5:  Loss:     1.1077 Validation Accuracy: 0.510400\n",
      "Epoch 12, CIFAR-10 Batch 1:  Loss:     1.2789 Validation Accuracy: 0.515400\n",
      "Epoch 12, CIFAR-10 Batch 2:  Loss:     0.9589 Validation Accuracy: 0.481200\n",
      "Epoch 12, CIFAR-10 Batch 3:  Loss:     0.9306 Validation Accuracy: 0.501200\n",
      "Epoch 12, CIFAR-10 Batch 4:  Loss:     1.0718 Validation Accuracy: 0.519000\n",
      "Epoch 12, CIFAR-10 Batch 5:  Loss:     1.0578 Validation Accuracy: 0.520000\n",
      "Epoch 13, CIFAR-10 Batch 1:  Loss:     1.1975 Validation Accuracy: 0.522800\n",
      "Epoch 13, CIFAR-10 Batch 2:  Loss:     0.8957 Validation Accuracy: 0.495800\n",
      "Epoch 13, CIFAR-10 Batch 3:  Loss:     0.8784 Validation Accuracy: 0.510400\n",
      "Epoch 13, CIFAR-10 Batch 4:  Loss:     1.0205 Validation Accuracy: 0.520800\n",
      "Epoch 13, CIFAR-10 Batch 5:  Loss:     1.0038 Validation Accuracy: 0.517800\n",
      "Epoch 14, CIFAR-10 Batch 1:  Loss:     1.1056 Validation Accuracy: 0.527600\n",
      "Epoch 14, CIFAR-10 Batch 2:  Loss:     0.8613 Validation Accuracy: 0.506400\n",
      "Epoch 14, CIFAR-10 Batch 3:  Loss:     0.8288 Validation Accuracy: 0.511800\n",
      "Epoch 14, CIFAR-10 Batch 4:  Loss:     0.9506 Validation Accuracy: 0.525600\n",
      "Epoch 14, CIFAR-10 Batch 5:  Loss:     0.9584 Validation Accuracy: 0.531000\n",
      "Epoch 15, CIFAR-10 Batch 1:  Loss:     1.0538 Validation Accuracy: 0.524600\n",
      "Epoch 15, CIFAR-10 Batch 2:  Loss:     0.7945 Validation Accuracy: 0.515000\n",
      "Epoch 15, CIFAR-10 Batch 3:  Loss:     0.7981 Validation Accuracy: 0.517600\n",
      "Epoch 15, CIFAR-10 Batch 4:  Loss:     0.9196 Validation Accuracy: 0.530000\n",
      "Epoch 15, CIFAR-10 Batch 5:  Loss:     0.8732 Validation Accuracy: 0.531800\n",
      "Epoch 16, CIFAR-10 Batch 1:  Loss:     0.9870 Validation Accuracy: 0.540400\n",
      "Epoch 16, CIFAR-10 Batch 2:  Loss:     0.7441 Validation Accuracy: 0.531800\n",
      "Epoch 16, CIFAR-10 Batch 3:  Loss:     0.7580 Validation Accuracy: 0.526200\n",
      "Epoch 16, CIFAR-10 Batch 4:  Loss:     0.8677 Validation Accuracy: 0.542200\n",
      "Epoch 16, CIFAR-10 Batch 5:  Loss:     0.8216 Validation Accuracy: 0.533200\n",
      "Epoch 17, CIFAR-10 Batch 1:  Loss:     0.9657 Validation Accuracy: 0.539400\n",
      "Epoch 17, CIFAR-10 Batch 2:  Loss:     0.6916 Validation Accuracy: 0.527600\n",
      "Epoch 17, CIFAR-10 Batch 3:  Loss:     0.7146 Validation Accuracy: 0.529400\n",
      "Epoch 17, CIFAR-10 Batch 4:  Loss:     0.8191 Validation Accuracy: 0.531800\n",
      "Epoch 17, CIFAR-10 Batch 5:  Loss:     0.7845 Validation Accuracy: 0.535200\n",
      "Epoch 18, CIFAR-10 Batch 1:  Loss:     0.8935 Validation Accuracy: 0.538800\n",
      "Epoch 18, CIFAR-10 Batch 2:  Loss:     0.6858 Validation Accuracy: 0.542400\n",
      "Epoch 18, CIFAR-10 Batch 3:  Loss:     0.6693 Validation Accuracy: 0.542400\n",
      "Epoch 18, CIFAR-10 Batch 4:  Loss:     0.7508 Validation Accuracy: 0.548600\n",
      "Epoch 18, CIFAR-10 Batch 5:  Loss:     0.7220 Validation Accuracy: 0.543200\n",
      "Epoch 19, CIFAR-10 Batch 1:  Loss:     0.8450 Validation Accuracy: 0.542200\n",
      "Epoch 19, CIFAR-10 Batch 2:  Loss:     0.6646 Validation Accuracy: 0.547200\n",
      "Epoch 19, CIFAR-10 Batch 3:  Loss:     0.6477 Validation Accuracy: 0.546800\n",
      "Epoch 19, CIFAR-10 Batch 4:  Loss:     0.6628 Validation Accuracy: 0.550800\n",
      "Epoch 19, CIFAR-10 Batch 5:  Loss:     0.6580 Validation Accuracy: 0.547200\n",
      "Epoch 20, CIFAR-10 Batch 1:  Loss:     0.7928 Validation Accuracy: 0.558600\n",
      "Epoch 20, CIFAR-10 Batch 2:  Loss:     0.5735 Validation Accuracy: 0.539200\n",
      "Epoch 20, CIFAR-10 Batch 3:  Loss:     0.5970 Validation Accuracy: 0.547400\n",
      "Epoch 20, CIFAR-10 Batch 4:  Loss:     0.6155 Validation Accuracy: 0.560000\n",
      "Epoch 20, CIFAR-10 Batch 5:  Loss:     0.6283 Validation Accuracy: 0.544400\n",
      "Epoch 21, CIFAR-10 Batch 1:  Loss:     0.7847 Validation Accuracy: 0.548600\n",
      "Epoch 21, CIFAR-10 Batch 2:  Loss:     0.5696 Validation Accuracy: 0.552400\n",
      "Epoch 21, CIFAR-10 Batch 3:  Loss:     0.5451 Validation Accuracy: 0.555000\n",
      "Epoch 21, CIFAR-10 Batch 4:  Loss:     0.5788 Validation Accuracy: 0.567400\n",
      "Epoch 21, CIFAR-10 Batch 5:  Loss:     0.5763 Validation Accuracy: 0.544600\n",
      "Epoch 22, CIFAR-10 Batch 1:  Loss:     0.7161 Validation Accuracy: 0.564400\n",
      "Epoch 22, CIFAR-10 Batch 2:  Loss:     0.5466 Validation Accuracy: 0.546000\n",
      "Epoch 22, CIFAR-10 Batch 3:  Loss:     0.4985 Validation Accuracy: 0.554400\n",
      "Epoch 22, CIFAR-10 Batch 4:  Loss:     0.5157 Validation Accuracy: 0.566000\n",
      "Epoch 22, CIFAR-10 Batch 5:  Loss:     0.5204 Validation Accuracy: 0.545400\n",
      "Epoch 23, CIFAR-10 Batch 1:  Loss:     0.6725 Validation Accuracy: 0.553800\n",
      "Epoch 23, CIFAR-10 Batch 2:  Loss:     0.5005 Validation Accuracy: 0.554800\n",
      "Epoch 23, CIFAR-10 Batch 3:  Loss:     0.4583 Validation Accuracy: 0.563600\n",
      "Epoch 23, CIFAR-10 Batch 4:  Loss:     0.4692 Validation Accuracy: 0.571600\n",
      "Epoch 23, CIFAR-10 Batch 5:  Loss:     0.4766 Validation Accuracy: 0.562400\n",
      "Epoch 24, CIFAR-10 Batch 1:  Loss:     0.6121 Validation Accuracy: 0.564800\n",
      "Epoch 24, CIFAR-10 Batch 2:  Loss:     0.4499 Validation Accuracy: 0.558600\n",
      "Epoch 24, CIFAR-10 Batch 3:  Loss:     0.4521 Validation Accuracy: 0.557800\n",
      "Epoch 24, CIFAR-10 Batch 4:  Loss:     0.4458 Validation Accuracy: 0.569600\n",
      "Epoch 24, CIFAR-10 Batch 5:  Loss:     0.4312 Validation Accuracy: 0.558800\n",
      "Epoch 25, CIFAR-10 Batch 1:  Loss:     0.5446 Validation Accuracy: 0.567400\n",
      "Epoch 25, CIFAR-10 Batch 2:  Loss:     0.4696 Validation Accuracy: 0.548200\n",
      "Epoch 25, CIFAR-10 Batch 3:  Loss:     0.4475 Validation Accuracy: 0.556400\n",
      "Epoch 25, CIFAR-10 Batch 4:  Loss:     0.4326 Validation Accuracy: 0.550200\n",
      "Epoch 25, CIFAR-10 Batch 5:  Loss:     0.4370 Validation Accuracy: 0.555200\n",
      "Epoch 26, CIFAR-10 Batch 1:  Loss:     0.5470 Validation Accuracy: 0.566600\n",
      "Epoch 26, CIFAR-10 Batch 2:  Loss:     0.4393 Validation Accuracy: 0.562000\n",
      "Epoch 26, CIFAR-10 Batch 3:  Loss:     0.4298 Validation Accuracy: 0.569800\n",
      "Epoch 26, CIFAR-10 Batch 4:  Loss:     0.3684 Validation Accuracy: 0.560800\n",
      "Epoch 26, CIFAR-10 Batch 5:  Loss:     0.4022 Validation Accuracy: 0.555400\n",
      "Epoch 27, CIFAR-10 Batch 1:  Loss:     0.5082 Validation Accuracy: 0.552000\n",
      "Epoch 27, CIFAR-10 Batch 2:  Loss:     0.4094 Validation Accuracy: 0.559000\n",
      "Epoch 27, CIFAR-10 Batch 3:  Loss:     0.3961 Validation Accuracy: 0.557600\n",
      "Epoch 27, CIFAR-10 Batch 4:  Loss:     0.4020 Validation Accuracy: 0.561200\n",
      "Epoch 27, CIFAR-10 Batch 5:  Loss:     0.3755 Validation Accuracy: 0.571000\n",
      "Epoch 28, CIFAR-10 Batch 1:  Loss:     0.4629 Validation Accuracy: 0.568200\n",
      "Epoch 28, CIFAR-10 Batch 2:  Loss:     0.4016 Validation Accuracy: 0.569600\n",
      "Epoch 28, CIFAR-10 Batch 3:  Loss:     0.3970 Validation Accuracy: 0.573400\n",
      "Epoch 28, CIFAR-10 Batch 4:  Loss:     0.3771 Validation Accuracy: 0.566600\n",
      "Epoch 28, CIFAR-10 Batch 5:  Loss:     0.3430 Validation Accuracy: 0.576200\n",
      "Epoch 29, CIFAR-10 Batch 1:  Loss:     0.4224 Validation Accuracy: 0.575400\n",
      "Epoch 29, CIFAR-10 Batch 2:  Loss:     0.3621 Validation Accuracy: 0.568000\n",
      "Epoch 29, CIFAR-10 Batch 3:  Loss:     0.3561 Validation Accuracy: 0.573600\n",
      "Epoch 29, CIFAR-10 Batch 4:  Loss:     0.3105 Validation Accuracy: 0.562000\n",
      "Epoch 29, CIFAR-10 Batch 5:  Loss:     0.2957 Validation Accuracy: 0.582600\n",
      "Epoch 30, CIFAR-10 Batch 1:  Loss:     0.3491 Validation Accuracy: 0.579000\n",
      "Epoch 30, CIFAR-10 Batch 2:  Loss:     0.3426 Validation Accuracy: 0.561600\n",
      "Epoch 30, CIFAR-10 Batch 3:  Loss:     0.4304 Validation Accuracy: 0.552800\n",
      "Epoch 30, CIFAR-10 Batch 4:  Loss:     0.3226 Validation Accuracy: 0.564200\n",
      "Epoch 30, CIFAR-10 Batch 5:  Loss:     0.2943 Validation Accuracy: 0.587800\n",
      "Epoch 31, CIFAR-10 Batch 1:  Loss:     0.3302 Validation Accuracy: 0.581800\n",
      "Epoch 31, CIFAR-10 Batch 2:  Loss:     0.3090 Validation Accuracy: 0.562400\n",
      "Epoch 31, CIFAR-10 Batch 3:  Loss:     0.4258 Validation Accuracy: 0.532400\n",
      "Epoch 31, CIFAR-10 Batch 4:  Loss:     0.3048 Validation Accuracy: 0.578200\n",
      "Epoch 31, CIFAR-10 Batch 5:  Loss:     0.2632 Validation Accuracy: 0.586000\n",
      "Epoch 32, CIFAR-10 Batch 1:  Loss:     0.2746 Validation Accuracy: 0.584800\n",
      "Epoch 32, CIFAR-10 Batch 2:  Loss:     0.2993 Validation Accuracy: 0.560200\n",
      "Epoch 32, CIFAR-10 Batch 3:  Loss:     0.3809 Validation Accuracy: 0.543600\n",
      "Epoch 32, CIFAR-10 Batch 4:  Loss:     0.2888 Validation Accuracy: 0.573400\n",
      "Epoch 32, CIFAR-10 Batch 5:  Loss:     0.2375 Validation Accuracy: 0.595000\n",
      "Epoch 33, CIFAR-10 Batch 1:  Loss:     0.2503 Validation Accuracy: 0.586600\n",
      "Epoch 33, CIFAR-10 Batch 2:  Loss:     0.2580 Validation Accuracy: 0.567600\n",
      "Epoch 33, CIFAR-10 Batch 3:  Loss:     0.3006 Validation Accuracy: 0.567800\n",
      "Epoch 33, CIFAR-10 Batch 4:  Loss:     0.2590 Validation Accuracy: 0.585400\n",
      "Epoch 33, CIFAR-10 Batch 5:  Loss:     0.2073 Validation Accuracy: 0.594400\n",
      "Epoch 34, CIFAR-10 Batch 1:  Loss:     0.2285 Validation Accuracy: 0.587000\n",
      "Epoch 34, CIFAR-10 Batch 2:  Loss:     0.2490 Validation Accuracy: 0.559200\n",
      "Epoch 34, CIFAR-10 Batch 3:  Loss:     0.2748 Validation Accuracy: 0.548000\n",
      "Epoch 34, CIFAR-10 Batch 4:  Loss:     0.2424 Validation Accuracy: 0.582000\n",
      "Epoch 34, CIFAR-10 Batch 5:  Loss:     0.1656 Validation Accuracy: 0.582000\n",
      "Epoch 35, CIFAR-10 Batch 1:  Loss:     0.2178 Validation Accuracy: 0.583000\n",
      "Epoch 35, CIFAR-10 Batch 2:  Loss:     0.2292 Validation Accuracy: 0.560600\n",
      "Epoch 35, CIFAR-10 Batch 3:  Loss:     0.2595 Validation Accuracy: 0.549600\n",
      "Epoch 35, CIFAR-10 Batch 4:  Loss:     0.1910 Validation Accuracy: 0.586000\n",
      "Epoch 35, CIFAR-10 Batch 5:  Loss:     0.1700 Validation Accuracy: 0.588600\n",
      "Epoch 36, CIFAR-10 Batch 1:  Loss:     0.1947 Validation Accuracy: 0.586400\n",
      "Epoch 36, CIFAR-10 Batch 2:  Loss:     0.2097 Validation Accuracy: 0.547400\n",
      "Epoch 36, CIFAR-10 Batch 3:  Loss:     0.2259 Validation Accuracy: 0.541000\n",
      "Epoch 36, CIFAR-10 Batch 4:  Loss:     0.1903 Validation Accuracy: 0.585200\n",
      "Epoch 36, CIFAR-10 Batch 5:  Loss:     0.1475 Validation Accuracy: 0.588000\n",
      "Epoch 37, CIFAR-10 Batch 1:  Loss:     0.1971 Validation Accuracy: 0.575400\n",
      "Epoch 37, CIFAR-10 Batch 2:  Loss:     0.1925 Validation Accuracy: 0.570000\n",
      "Epoch 37, CIFAR-10 Batch 3:  Loss:     0.2398 Validation Accuracy: 0.559600\n",
      "Epoch 37, CIFAR-10 Batch 4:  Loss:     0.1785 Validation Accuracy: 0.580800\n",
      "Epoch 37, CIFAR-10 Batch 5:  Loss:     0.1464 Validation Accuracy: 0.574200\n",
      "Epoch 38, CIFAR-10 Batch 1:  Loss:     0.1637 Validation Accuracy: 0.562400\n",
      "Epoch 38, CIFAR-10 Batch 2:  Loss:     0.1826 Validation Accuracy: 0.560800\n",
      "Epoch 38, CIFAR-10 Batch 3:  Loss:     0.1978 Validation Accuracy: 0.569800\n",
      "Epoch 38, CIFAR-10 Batch 4:  Loss:     0.1637 Validation Accuracy: 0.583800\n",
      "Epoch 38, CIFAR-10 Batch 5:  Loss:     0.1559 Validation Accuracy: 0.575600\n",
      "Epoch 39, CIFAR-10 Batch 1:  Loss:     0.2685 Validation Accuracy: 0.541400\n",
      "Epoch 39, CIFAR-10 Batch 2:  Loss:     0.1746 Validation Accuracy: 0.567000\n",
      "Epoch 39, CIFAR-10 Batch 3:  Loss:     0.2252 Validation Accuracy: 0.571800\n",
      "Epoch 39, CIFAR-10 Batch 4:  Loss:     0.1569 Validation Accuracy: 0.578200\n",
      "Epoch 39, CIFAR-10 Batch 5:  Loss:     0.1253 Validation Accuracy: 0.573200\n",
      "Epoch 40, CIFAR-10 Batch 1:  Loss:     0.1948 Validation Accuracy: 0.537600\n",
      "Epoch 40, CIFAR-10 Batch 2:  Loss:     0.1681 Validation Accuracy: 0.571800\n",
      "Epoch 40, CIFAR-10 Batch 3:  Loss:     0.1965 Validation Accuracy: 0.582800\n",
      "Epoch 40, CIFAR-10 Batch 4:  Loss:     0.1438 Validation Accuracy: 0.580200\n",
      "Epoch 40, CIFAR-10 Batch 5:  Loss:     0.1127 Validation Accuracy: 0.587200\n",
      "Epoch 41, CIFAR-10 Batch 1:  Loss:     0.1659 Validation Accuracy: 0.536000\n",
      "Epoch 41, CIFAR-10 Batch 2:  Loss:     0.1602 Validation Accuracy: 0.586200\n",
      "Epoch 41, CIFAR-10 Batch 3:  Loss:     0.2082 Validation Accuracy: 0.564800\n",
      "Epoch 41, CIFAR-10 Batch 4:  Loss:     0.1210 Validation Accuracy: 0.586600\n",
      "Epoch 41, CIFAR-10 Batch 5:  Loss:     0.1285 Validation Accuracy: 0.577400\n",
      "Epoch 42, CIFAR-10 Batch 1:  Loss:     0.1413 Validation Accuracy: 0.571400\n",
      "Epoch 42, CIFAR-10 Batch 2:  Loss:     0.1473 Validation Accuracy: 0.587800\n",
      "Epoch 42, CIFAR-10 Batch 3:  Loss:     0.1605 Validation Accuracy: 0.567200\n",
      "Epoch 42, CIFAR-10 Batch 4:  Loss:     0.1114 Validation Accuracy: 0.590000\n",
      "Epoch 42, CIFAR-10 Batch 5:  Loss:     0.0905 Validation Accuracy: 0.585200\n",
      "Epoch 43, CIFAR-10 Batch 1:  Loss:     0.1172 Validation Accuracy: 0.574600\n",
      "Epoch 43, CIFAR-10 Batch 2:  Loss:     0.1243 Validation Accuracy: 0.587000\n",
      "Epoch 43, CIFAR-10 Batch 3:  Loss:     0.1057 Validation Accuracy: 0.580200\n",
      "Epoch 43, CIFAR-10 Batch 4:  Loss:     0.0977 Validation Accuracy: 0.592800\n",
      "Epoch 43, CIFAR-10 Batch 5:  Loss:     0.0858 Validation Accuracy: 0.590600\n",
      "Epoch 44, CIFAR-10 Batch 1:  Loss:     0.0959 Validation Accuracy: 0.574200\n",
      "Epoch 44, CIFAR-10 Batch 2:  Loss:     0.1224 Validation Accuracy: 0.586600\n",
      "Epoch 44, CIFAR-10 Batch 3:  Loss:     0.1049 Validation Accuracy: 0.576200\n",
      "Epoch 44, CIFAR-10 Batch 4:  Loss:     0.1012 Validation Accuracy: 0.593200\n",
      "Epoch 44, CIFAR-10 Batch 5:  Loss:     0.0735 Validation Accuracy: 0.590200\n",
      "Epoch 45, CIFAR-10 Batch 1:  Loss:     0.1099 Validation Accuracy: 0.577200\n",
      "Epoch 45, CIFAR-10 Batch 2:  Loss:     0.1142 Validation Accuracy: 0.584000\n",
      "Epoch 45, CIFAR-10 Batch 3:  Loss:     0.1324 Validation Accuracy: 0.569400\n",
      "Epoch 45, CIFAR-10 Batch 4:  Loss:     0.1077 Validation Accuracy: 0.575600\n",
      "Epoch 45, CIFAR-10 Batch 5:  Loss:     0.1073 Validation Accuracy: 0.575200\n",
      "Epoch 46, CIFAR-10 Batch 1:  Loss:     0.1015 Validation Accuracy: 0.559400\n",
      "Epoch 46, CIFAR-10 Batch 2:  Loss:     0.1191 Validation Accuracy: 0.580200\n",
      "Epoch 46, CIFAR-10 Batch 3:  Loss:     0.1107 Validation Accuracy: 0.568400\n",
      "Epoch 46, CIFAR-10 Batch 4:  Loss:     0.1048 Validation Accuracy: 0.572000\n",
      "Epoch 46, CIFAR-10 Batch 5:  Loss:     0.1140 Validation Accuracy: 0.577200\n",
      "Epoch 47, CIFAR-10 Batch 1:  Loss:     0.0816 Validation Accuracy: 0.569400\n",
      "Epoch 47, CIFAR-10 Batch 2:  Loss:     0.1349 Validation Accuracy: 0.562400\n",
      "Epoch 47, CIFAR-10 Batch 3:  Loss:     0.1260 Validation Accuracy: 0.564800\n",
      "Epoch 47, CIFAR-10 Batch 4:  Loss:     0.1052 Validation Accuracy: 0.571200\n",
      "Epoch 47, CIFAR-10 Batch 5:  Loss:     0.1289 Validation Accuracy: 0.573200\n",
      "Epoch 48, CIFAR-10 Batch 1:  Loss:     0.0745 Validation Accuracy: 0.579600\n",
      "Epoch 48, CIFAR-10 Batch 2:  Loss:     0.1272 Validation Accuracy: 0.557400\n",
      "Epoch 48, CIFAR-10 Batch 3:  Loss:     0.1424 Validation Accuracy: 0.559200\n",
      "Epoch 48, CIFAR-10 Batch 4:  Loss:     0.0875 Validation Accuracy: 0.583000\n",
      "Epoch 48, CIFAR-10 Batch 5:  Loss:     0.1235 Validation Accuracy: 0.568800\n",
      "Epoch 49, CIFAR-10 Batch 1:  Loss:     0.0673 Validation Accuracy: 0.571000\n",
      "Epoch 49, CIFAR-10 Batch 2:  Loss:     0.1133 Validation Accuracy: 0.552400\n",
      "Epoch 49, CIFAR-10 Batch 3:  Loss:     0.1269 Validation Accuracy: 0.573200\n",
      "Epoch 49, CIFAR-10 Batch 4:  Loss:     0.0826 Validation Accuracy: 0.587400\n",
      "Epoch 49, CIFAR-10 Batch 5:  Loss:     0.0783 Validation Accuracy: 0.586800\n",
      "Epoch 50, CIFAR-10 Batch 1:  Loss:     0.0532 Validation Accuracy: 0.580800\n",
      "Epoch 50, CIFAR-10 Batch 2:  Loss:     0.0943 Validation Accuracy: 0.557000\n",
      "Epoch 50, CIFAR-10 Batch 3:  Loss:     0.1096 Validation Accuracy: 0.577400\n",
      "Epoch 50, CIFAR-10 Batch 4:  Loss:     0.0851 Validation Accuracy: 0.581200\n",
      "Epoch 50, CIFAR-10 Batch 5:  Loss:     0.0664 Validation Accuracy: 0.589600\n"
     ]
    }
   ],
   "source": [
    "\"\"\"\n",
    "DON'T MODIFY ANYTHING IN THIS CELL\n",
    "\"\"\"\n",
    "save_model_path = './image_classification'\n",
    "\n",
    "print('Training...')\n",
    "with tf.Session() as sess:\n",
    "    # Initializing the variables\n",
    "    sess.run(tf.global_variables_initializer())\n",
    "    \n",
    "    # Training cycle\n",
    "    for epoch in range(epochs):\n",
    "        # Loop over all batches\n",
    "        n_batches = 5\n",
    "        for batch_i in range(1, n_batches + 1):\n",
    "            for batch_features, batch_labels in helper.load_preprocess_training_batch(batch_i, batch_size):\n",
    "                train_neural_network(sess, optimizer, keep_probability, batch_features, batch_labels)\n",
    "            print('Epoch {:>2}, CIFAR-10 Batch {}:  '.format(epoch + 1, batch_i), end='')\n",
    "            print_stats(sess, batch_features, batch_labels, cost, accuracy)\n",
    "            \n",
    "    # Save Model\n",
    "    saver = tf.train.Saver()\n",
    "    save_path = saver.save(sess, save_model_path)"
   ]
  },
  {
   "cell_type": "markdown",
   "metadata": {
    "deletable": true,
    "editable": true
   },
   "source": [
    "# Checkpoint\n",
    "The model has been saved to disk.\n",
    "## Test Model\n",
    "Test your model against the test dataset.  This will be your final accuracy. You should have an accuracy greater than 50%. If you don't, keep tweaking the model architecture and parameters."
   ]
  },
  {
   "cell_type": "code",
   "execution_count": 57,
   "metadata": {
    "collapsed": false,
    "deletable": true,
    "editable": true
   },
   "outputs": [
    {
     "name": "stdout",
     "output_type": "stream",
     "text": [
      "Testing Accuracy: 0.59716796875\n",
      "\n"
     ]
    },
    {
     "data": {
      "image/png": "[encoded data removed]",
      "text/plain": [
       "<matplotlib.figure.Figure at 0x7f296a28bf28>"
      ]
     },
     "metadata": {
      "image/png": {
       "height": 319,
       "width": 355
      }
     },
     "output_type": "display_data"
    }
   ],
   "source": [
    "\"\"\"\n",
    "DON'T MODIFY ANYTHING IN THIS CELL\n",
    "\"\"\"\n",
    "%matplotlib inline\n",
    "%config InlineBackend.figure_format = 'retina'\n",
    "\n",
    "import tensorflow as tf\n",
    "import pickle\n",
    "import helper\n",
    "import random\n",
    "\n",
    "# Set batch size if not already set\n",
    "try:\n",
    "    if batch_size:\n",
    "        pass\n",
    "except NameError:\n",
    "    batch_size = 64\n",
    "\n",
    "save_model_path = './image_classification'\n",
    "n_samples = 4\n",
    "top_n_predictions = 3\n",
    "\n",
    "def test_model():\n",
    "    \"\"\"\n",
    "    Test the saved model against the test dataset\n",
    "    \"\"\"\n",
    "\n",
    "    test_features, test_labels = pickle.load(open('preprocess_training.p', mode='rb'))\n",
    "    loaded_graph = tf.Graph()\n",
    "\n",
    "    with tf.Session(graph=loaded_graph) as sess:\n",
    "        # Load model\n",
    "        loader = tf.train.import_meta_graph(save_model_path + '.meta')\n",
    "        loader.restore(sess, save_model_path)\n",
    "\n",
    "        # Get Tensors from loaded model\n",
    "        loaded_x = loaded_graph.get_tensor_by_name('x:0')\n",
    "        loaded_y = loaded_graph.get_tensor_by_name('y:0')\n",
    "        loaded_keep_prob = loaded_graph.get_tensor_by_name('keep_prob:0')\n",
    "        loaded_logits = loaded_graph.get_tensor_by_name('logits:0')\n",
    "        loaded_acc = loaded_graph.get_tensor_by_name('accuracy:0')\n",
    "        \n",
    "        # Get accuracy in batches for memory limitations\n",
    "        test_batch_acc_total = 0\n",
    "        test_batch_count = 0\n",
    "        \n",
    "        for train_feature_batch, train_label_batch in helper.batch_features_labels(test_features, test_labels, batch_size):\n",
    "            test_batch_acc_total += sess.run(\n",
    "                loaded_acc,\n",
    "                feed_dict={loaded_x: train_feature_batch, loaded_y: train_label_batch, loaded_keep_prob: 1.0})\n",
    "            test_batch_count += 1\n",
    "\n",
    "        print('Testing Accuracy: {}\\n'.format(test_batch_acc_total/test_batch_count))\n",
    "\n",
    "        # Print Random Samples\n",
    "        random_test_features, random_test_labels = tuple(zip(*random.sample(list(zip(test_features, test_labels)), n_samples)))\n",
    "        random_test_predictions = sess.run(\n",
    "            tf.nn.top_k(tf.nn.softmax(loaded_logits), top_n_predictions),\n",
    "            feed_dict={loaded_x: random_test_features, loaded_y: random_test_labels, loaded_keep_prob: 1.0})\n",
    "        helper.display_image_predictions(random_test_features, random_test_labels, random_test_predictions)\n",
    "\n",
    "\n",
    "test_model()"
   ]
  },
  {
   "cell_type": "markdown",
   "metadata": {
    "deletable": true,
    "editable": true
   },
   "source": [
    "## Why 50-70% Accuracy?\n",
    "You might be wondering why you can't get an accuracy any higher. First things first, 50% isn't bad for a simple CNN.  Pure guessing would get you 10% accuracy. However, you might notice people are getting scores [well above 70%](http://rodrigob.github.io/are_we_there_yet/build/classification_datasets_results.html#43494641522d3130).  That's because we haven't taught you all there is to know about neural networks. We still need to cover a few more techniques.\n",
    "## Submitting This Project\n",
    "When submitting this project, make sure to run all the cells before saving the notebook.  Save the notebook file as \"dlnd_image_classification.ipynb\" and save it as a HTML file under \"File\" -> \"Download as\".  Include the \"helper.py\" and \"problem_unittests.py\" files in your submission."
   ]
  },
  {
   "cell_type": "code",
   "execution_count": null,
   "metadata": {
    "collapsed": true,
    "deletable": true,
    "editable": true
   },
   "outputs": [],
   "source": []
  },
  {
   "cell_type": "code",
   "execution_count": null,
   "metadata": {
    "collapsed": true,
    "deletable": true,
    "editable": true
   },
   "outputs": [],
   "source": []
  },
  {
   "cell_type": "code",
   "execution_count": null,
   "metadata": {
    "collapsed": true,
    "deletable": true,
    "editable": true
   },
   "outputs": [],
   "source": []
  },
  {
   "cell_type": "code",
   "execution_count": null,
   "metadata": {
    "collapsed": true,
    "deletable": true,
    "editable": true
   },
   "outputs": [],
   "source": []
  },
  {
   "cell_type": "code",
   "execution_count": null,
   "metadata": {
    "collapsed": true,
    "deletable": true,
    "editable": true
   },
   "outputs": [],
   "source": []
  },
  {
   "cell_type": "code",
   "execution_count": null,
   "metadata": {
    "collapsed": true,
    "deletable": true,
    "editable": true
   },
   "outputs": [],
   "source": []
  },
  {
   "cell_type": "code",
   "execution_count": null,
   "metadata": {
    "collapsed": true,
    "deletable": true,
    "editable": true
   },
   "outputs": [],
   "source": []
  },
  {
   "cell_type": "code",
   "execution_count": null,
   "metadata": {
    "collapsed": true,
    "deletable": true,
    "editable": true
   },
   "outputs": [],
   "source": []
  }
 ],
 "metadata": {
  "kernelspec": {
   "display_name": "Python 3",
   "language": "python",
   "name": "python3"
  },
  "language_info": {
   "codemirror_mode": {
    "name": "ipython",
    "version": 3
   },
   "file_extension": ".py",
   "mimetype": "text/x-python",
   "name": "python",
   "nbconvert_exporter": "python",
   "pygments_lexer": "ipython3",
   "version": "3.5.2"
  },
  "widgets": {
   "state": {},
   "version": "1.1.2"
  }
 },
 "nbformat": 4,
 "nbformat_minor": 0
}
